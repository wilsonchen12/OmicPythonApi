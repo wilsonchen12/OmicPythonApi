{
 "cells": [
  {
   "cell_type": "markdown",
   "metadata": {},
   "source": [
    "## OmicPythonApi Tutorial\n",
    "\n",
    "Contact: Wilson Chen, Omicsoft, 2018-3-21\n",
    "\n",
    "### Introduction\n",
    "OmicPythonApi was designed to be a python package that allows users to run oscript via oshell within Python. Input to OmicPythonApi normally is identical to the corresponding oscripts. The output of OmicPythonApi totally depends on the oscripts behind OmicPythonApi.\n",
    "\n",
    "Users may retrieve the oscripts of an OmicPythonApi object in its Oscript field. Users may refer to Omicsoft Wiki for input parameters and output of the corresponding oscripts.\n",
    "\n",
    "To perform land queries, users may use the apis in this package to download query results to text files, then use other Python packages ( (Pandas etc) to load the text files and perform downstream analysis.\n",
    "\n",
    "OmicPythonApi requires Oshell and Python 3.6.\n",
    "\n",
    "OmicPythonApi was tested in Windows 10 and Centos7.\n",
    "\n",
    "### Instruction\n",
    "1. Unzip OmicPythonApi.zip to a desired location (called InstallationFolder). Please do NOT rename the unzipped OmicPythonApi folder under InstllationFolder.\n",
    "2. Update the mono and oshell path in OmicPythonApi.cfg file. If Oshell was installed in windows, either comment MonoPath line with //, or set it to a space character.\n",
    "3. Include the following lines into your python code in order to import OmicPythonApi package:\n",
    "```\n",
    "\tInstallationFolder=r'Z:\\test'\n",
    "    import site\n",
    "\timport os\n",
    "\tsite.addsitedir(InstallationFolder)\n",
    "\timport OmicPythonApi as Oapi\n",
    "```\n",
    "3. Use the Oapi as a regular python packages in your python script.\n",
    "\n",
    "### Example\n",
    "#### 1. Load OmicPythonApi package and other packages"
   ]
  },
  {
   "cell_type": "code",
   "execution_count": 17,
   "metadata": {
    "collapsed": true
   },
   "outputs": [],
   "source": [
    "#Load OmicPythonApi package\n",
    "InstallationFolder=r'Z:\\Users\\wilson\\document\\Script_Library\\Python\\OmicPythonApi_Development'\n",
    "import site\n",
    "site.addsitedir(InstallationFolder)\n",
    "import OmicPythonApi as Oapi\n",
    "\n",
    "import os\n",
    "import pandas as pd"
   ]
  },
  {
   "cell_type": "markdown",
   "metadata": {},
   "source": [
    "#### 2. Set input parameters that will be used for different apis for this tutorial"
   ]
  },
  {
   "cell_type": "code",
   "execution_count": 18,
   "metadata": {
    "collapsed": true
   },
   "outputs": [],
   "source": [
    "ServerAddress=r'tcp://192.168.3.226:9065'\n",
    "ServerUserId='omicsoft'\n",
    "ServerUserPsw='omicsoft'\n",
    "SampleSet='OmicsoftTest_SampleSet_20171128'\n",
    "ProjectPattern='2016'\n",
    "OutputFolder='/local_data/tem'\n",
    "\n",
    "ProjectId='20180314_test1'\n",
    "\n",
    "FastqFilePath=\"\"\"/IData/Users/QA_QC_Team/input/StandardDataset/RNA-Seq/Fastq/TestData1.1.fastq.gz\n",
    "/IData/Users/QA_QC_Team/input/StandardDataset/RNA-Seq/Fastq/TestData1.2.fastq.gz\"\"\"\n",
    "\n",
    "OutputFile=r'Z:\\Users\\wilson\\tem1\\20180308.txt'\n",
    "InputTableFile=r'Z:\\Users\\wilson\\tem1\\TestSample.FullMetaData.txt'\n",
    "OutputFolderAbsPath=r'Z:\\Users\\wilson\\tem1'\n",
    "SampleSetFilePath=r'Z:\\Users\\wilson\\document\\Script_Library\\Python\\OmicPythonApi_001\\OmicPythonApi\\examples\\testData\\SampleNames_TCGA.txt'\n"
   ]
  },
  {
   "cell_type": "markdown",
   "metadata": {},
   "source": [
    "#### 3. List all lands in an array server and export results to a text file. The test file can be imported using Pandas. "
   ]
  },
  {
   "cell_type": "code",
   "execution_count": 19,
   "metadata": {},
   "outputs": [
    {
     "name": "stdout",
     "output_type": "stream",
     "text": [
      "Load configuration...\n",
      "Load Oscript template\n",
      "Make oscript\n",
      "Lauching Oshell and Running Oscript\n",
      "Oshell run completed, no error message.\n"
     ]
    },
    {
     "data": {
      "text/html": [
       "<div>\n",
       "<style>\n",
       "    .dataframe thead tr:only-child th {\n",
       "        text-align: right;\n",
       "    }\n",
       "\n",
       "    .dataframe thead th {\n",
       "        text-align: left;\n",
       "    }\n",
       "\n",
       "    .dataframe tbody tr th {\n",
       "        vertical-align: top;\n",
       "    }\n",
       "</style>\n",
       "<table border=\"1\" class=\"dataframe\">\n",
       "  <thead>\n",
       "    <tr style=\"text-align: right;\">\n",
       "      <th></th>\n",
       "      <th>0</th>\n",
       "    </tr>\n",
       "  </thead>\n",
       "  <tbody>\n",
       "    <tr>\n",
       "      <th>0</th>\n",
       "      <td>Blueprint_B37</td>\n",
       "    </tr>\n",
       "    <tr>\n",
       "      <th>1</th>\n",
       "      <td>Blueprint_B38</td>\n",
       "    </tr>\n",
       "    <tr>\n",
       "      <th>2</th>\n",
       "      <td>CCLE_B37</td>\n",
       "    </tr>\n",
       "    <tr>\n",
       "      <th>3</th>\n",
       "      <td>CCLE_B38</td>\n",
       "    </tr>\n",
       "    <tr>\n",
       "      <th>4</th>\n",
       "      <td>CCLE_PatternCNV_B37</td>\n",
       "    </tr>\n",
       "  </tbody>\n",
       "</table>\n",
       "</div>"
      ],
      "text/plain": [
       "                     0\n",
       "0        Blueprint_B37\n",
       "1        Blueprint_B38\n",
       "2             CCLE_B37\n",
       "3             CCLE_B38\n",
       "4  CCLE_PatternCNV_B37"
      ]
     },
     "execution_count": 19,
     "metadata": {},
     "output_type": "execute_result"
    }
   ],
   "source": [
    "a1=Oapi.ListLands()\n",
    "a1.OutputFolder=OutputFolderAbsPath\n",
    "a1.ServerAddress=ServerAddress\n",
    "a1.ServerUserId=ServerUserId\n",
    "a1.ServerUserPsw=ServerUserPsw\n",
    "a1.Run();\n",
    "df1=pd.read_csv(os.path.join(OutputFolderAbsPath,'ListLands.txt'),sep='\\t',header=None)\n",
    "df1.head()"
   ]
  },
  {
   "cell_type": "markdown",
   "metadata": {},
   "source": [
    "#### 4. List samplesets and export all samplesets in a land to a text file. The file can be loaded into Python using pandas."
   ]
  },
  {
   "cell_type": "code",
   "execution_count": 20,
   "metadata": {},
   "outputs": [
    {
     "name": "stdout",
     "output_type": "stream",
     "text": [
      "Load configuration...\n",
      "Load Oscript template\n",
      "Make oscript\n",
      "Lauching Oshell and Running Oscript\n",
      "Oshell run completed, no error message.\n"
     ]
    },
    {
     "data": {
      "text/html": [
       "<div>\n",
       "<style>\n",
       "    .dataframe thead tr:only-child th {\n",
       "        text-align: right;\n",
       "    }\n",
       "\n",
       "    .dataframe thead th {\n",
       "        text-align: left;\n",
       "    }\n",
       "\n",
       "    .dataframe tbody tr th {\n",
       "        vertical-align: top;\n",
       "    }\n",
       "</style>\n",
       "<table border=\"1\" class=\"dataframe\">\n",
       "  <thead>\n",
       "    <tr style=\"text-align: right;\">\n",
       "      <th></th>\n",
       "      <th>SampleID</th>\n",
       "      <th>Tag</th>\n",
       "    </tr>\n",
       "  </thead>\n",
       "  <tbody>\n",
       "    <tr>\n",
       "      <th>0</th>\n",
       "      <td>TCGA_1Sample</td>\n",
       "      <td>Wilson</td>\n",
       "    </tr>\n",
       "    <tr>\n",
       "      <th>1</th>\n",
       "      <td>Rnaseq</td>\n",
       "      <td>Wilson</td>\n",
       "    </tr>\n",
       "    <tr>\n",
       "      <th>2</th>\n",
       "      <td>UCS</td>\n",
       "      <td>Wilson</td>\n",
       "    </tr>\n",
       "    <tr>\n",
       "      <th>3</th>\n",
       "      <td>DLBC</td>\n",
       "      <td>Wilson</td>\n",
       "    </tr>\n",
       "    <tr>\n",
       "      <th>4</th>\n",
       "      <td>OmicPythonApi_Test1</td>\n",
       "      <td>Wilson_test_20180314</td>\n",
       "    </tr>\n",
       "  </tbody>\n",
       "</table>\n",
       "</div>"
      ],
      "text/plain": [
       "              SampleID                   Tag\n",
       "0         TCGA_1Sample                Wilson\n",
       "1               Rnaseq                Wilson\n",
       "2                  UCS                Wilson\n",
       "3                 DLBC                Wilson\n",
       "4  OmicPythonApi_Test1  Wilson_test_20180314"
      ]
     },
     "execution_count": 20,
     "metadata": {},
     "output_type": "execute_result"
    }
   ],
   "source": [
    "a1=Oapi.ListSampleSets()\n",
    "a1.Land='TCGA_B37'\n",
    "a1.OutputFolder=OutputFolderAbsPath\n",
    "a1.ServerAddress=ServerAddress\n",
    "a1.ServerUserId=ServerUserId\n",
    "a1.ServerUserPsw=ServerUserPsw\n",
    "a1.Run();\n",
    "\n",
    "df1=pd.read_csv(os.path.join(OutputFolderAbsPath,'ListSampleSets.txt'),sep='\\t')\n",
    "df1.head()"
   ]
  },
  {
   "cell_type": "markdown",
   "metadata": {},
   "source": [
    "#### 5. Query data in TCGA_B37 using sample ids and export results to text files. See more details in wiki for oscript TextDumpArrayLandSampleData."
   ]
  },
  {
   "cell_type": "code",
   "execution_count": 21,
   "metadata": {},
   "outputs": [
    {
     "name": "stdout",
     "output_type": "stream",
     "text": [
      "Load configuration...\n",
      "Load Oscript template\n",
      "Make oscript\n",
      "Lauching Oshell and Running Oscript\n",
      "Oshell run completed, no error message.\n"
     ]
    }
   ],
   "source": [
    "a1=Oapi.TextDumpArrayLandSampleData()\n",
    "a1.ServerAddress=ServerAddress\n",
    "a1.ServerUserId=ServerUserId\n",
    "a1.ServerUserPsw=ServerUserPsw\n",
    "a1.Land='TCGA_B37'\n",
    "a1.DataMode='Expression_Ratio'\n",
    "a1.Sample=r'TCGA-01-0628-11A,TCGA-01-0629-11A'\n",
    "a1.DownloadFullMetaData='True'\n",
    "a1.OutputFolder=OutputFolderAbsPath\n",
    "a1.Output='TestSample'\n",
    "a1.Run();\n",
    "\n",
    "os.listdir(a1.OutputFolder);"
   ]
  },
  {
   "cell_type": "markdown",
   "metadata": {},
   "source": [
    "#### 6. Query TCGA_B37 using sample IDs and gene sets, and export results to text files."
   ]
  },
  {
   "cell_type": "code",
   "execution_count": 22,
   "metadata": {},
   "outputs": [
    {
     "name": "stdout",
     "output_type": "stream",
     "text": [
      "Load configuration...\n",
      "Load Oscript template\n",
      "Make oscript\n",
      "Lauching Oshell and Running Oscript\n",
      "Oshell run completed, no error message.\n"
     ]
    }
   ],
   "source": [
    "a1=Oapi.TextDumpArrayLandGeneData()\n",
    "a1.ServerAddress=ServerAddress\n",
    "a1.ServerUserId=ServerUserId\n",
    "a1.ServerUserPsw=ServerUserPsw\n",
    "a1.Land='TCGA_B37'\n",
    "a1.DataMode='Expression_Ratio'\n",
    "a1.SampleSet=r'OmicPythonApi_Test1'\n",
    "a1.GeneSet='erg,mdm2'\n",
    "a1.DownloadFullMetaData='True'\n",
    "a1.OutputFolder=OutputFolderAbsPath\n",
    "a1.Output='TestGeneSet'\n",
    "a1.Run();"
   ]
  },
  {
   "cell_type": "markdown",
   "metadata": {},
   "source": [
    "#### 7. Download all samplesets in TCGA_B37 and export results to a text file. Load the text file with Pandas."
   ]
  },
  {
   "cell_type": "code",
   "execution_count": 23,
   "metadata": {},
   "outputs": [
    {
     "name": "stdout",
     "output_type": "stream",
     "text": [
      "Load configuration...\n",
      "Load Oscript template\n",
      "Make oscript\n",
      "Lauching Oshell and Running Oscript\n",
      "Oshell run completed, no error message.\n"
     ]
    },
    {
     "data": {
      "text/plain": [
       "0    TCGA-3L-AA1B-01A\n",
       "1    TCGA-4N-A93T-01A\n",
       "2    TCGA-4T-AA8H-01A\n",
       "3    TCGA-5M-AAT4-01A\n",
       "4    TCGA-5M-AAT6-01A\n",
       "Name: 0, dtype: object"
      ]
     },
     "execution_count": 23,
     "metadata": {},
     "output_type": "execute_result"
    }
   ],
   "source": [
    "a1=Oapi.DownloadSampleSet()\n",
    "a1.Land='TCGA_B37'\n",
    "a1.SampleSet='OmicPythonApi_Test1'\n",
    "a1.OutputFolder=OutputFolderAbsPath\n",
    "a1.ServerAddress=ServerAddress\n",
    "a1.ServerUserId=ServerUserId\n",
    "a1.ServerUserPsw=ServerUserPsw\n",
    "a1.Run()\n",
    "df1=pd.read_csv(os.path.join(a1.OutputFolder,'DownloadSampleSet.txt'),sep='\\t',header=None)\n",
    "df1.head().iloc[:,0]"
   ]
  },
  {
   "cell_type": "markdown",
   "metadata": {},
   "source": [
    "#### 8. Download all genesets in TCGA_B37 and export results to a text file. Load the text file with Pandas"
   ]
  },
  {
   "cell_type": "code",
   "execution_count": 24,
   "metadata": {},
   "outputs": [
    {
     "name": "stdout",
     "output_type": "stream",
     "text": [
      "Load configuration...\n",
      "Load Oscript template\n",
      "Make oscript\n",
      "Lauching Oshell and Running Oscript\n",
      "Oshell run completed, no error message.\n"
     ]
    },
    {
     "data": {
      "text/plain": [
       "0    fgf12\n",
       "1     mdm2\n",
       "2     braf\n",
       "3     egfr\n",
       "Name: 0, dtype: object"
      ]
     },
     "execution_count": 24,
     "metadata": {},
     "output_type": "execute_result"
    }
   ],
   "source": [
    "a1=Oapi.DownloadGeneSet()\n",
    "a1.Land='TCGA_B37'\n",
    "a1.GeneSet='LandRApiTest'\n",
    "a1.OutputFolder=OutputFolderAbsPath\n",
    "a1.ServerAddress=ServerAddress\n",
    "a1.ServerUserId=ServerUserId\n",
    "a1.ServerUserPsw=ServerUserPsw\n",
    "a1.Run();\n",
    "df1=pd.read_csv(os.path.join(a1.OutputFolder,'DownloadGeneSet.txt'),sep='\\t',header=None)\n",
    "df1.head().iloc[:,0]"
   ]
  },
  {
   "cell_type": "markdown",
   "metadata": {},
   "source": [
    "#### 9. Download metadata in TCGA_B37 and export results to a text file. Load the text file with Pandas"
   ]
  },
  {
   "cell_type": "code",
   "execution_count": 25,
   "metadata": {},
   "outputs": [
    {
     "name": "stdout",
     "output_type": "stream",
     "text": [
      "Load configuration...\n",
      "Load Oscript template\n",
      "Make oscript\n",
      "Lauching Oshell and Running Oscript\n",
      "Oshell run completed, no error message.\n"
     ]
    },
    {
     "data": {
      "text/html": [
       "<div>\n",
       "<style>\n",
       "    .dataframe thead tr:only-child th {\n",
       "        text-align: right;\n",
       "    }\n",
       "\n",
       "    .dataframe thead th {\n",
       "        text-align: left;\n",
       "    }\n",
       "\n",
       "    .dataframe tbody tr th {\n",
       "        vertical-align: top;\n",
       "    }\n",
       "</style>\n",
       "<table border=\"1\" class=\"dataframe\">\n",
       "  <thead>\n",
       "    <tr style=\"text-align: right;\">\n",
       "      <th></th>\n",
       "      <th>ID</th>\n",
       "      <th>Age At Initial Pathologic Diagnosis</th>\n",
       "      <th>BamFileName</th>\n",
       "      <th>Bcr Patient Uuid</th>\n",
       "      <th>Bcr Sample Uuid</th>\n",
       "      <th>Clinical M</th>\n",
       "      <th>Clinical N</th>\n",
       "      <th>Clinical Stage</th>\n",
       "      <th>Clinical T</th>\n",
       "      <th>Disease</th>\n",
       "      <th>...</th>\n",
       "      <th>Study Source</th>\n",
       "      <th>SubjectID</th>\n",
       "      <th>Survival Days</th>\n",
       "      <th>Survival Status</th>\n",
       "      <th>TissueCategory</th>\n",
       "      <th>Tissue</th>\n",
       "      <th>Tumor Necrosis Percent</th>\n",
       "      <th>Tumor Nuclei Percent</th>\n",
       "      <th>Tumor Or Normal</th>\n",
       "      <th>Tumor Type</th>\n",
       "    </tr>\n",
       "  </thead>\n",
       "  <tbody>\n",
       "    <tr>\n",
       "      <th>0</th>\n",
       "      <td>TCGA-01-0628-11A</td>\n",
       "      <td>.</td>\n",
       "      <td>NaN</td>\n",
       "      <td>NaN</td>\n",
       "      <td>2a91428d-7099-4635-b059-9e5bad09b68a</td>\n",
       "      <td>NaN</td>\n",
       "      <td>NaN</td>\n",
       "      <td>NaN</td>\n",
       "      <td>NaN</td>\n",
       "      <td>Ovarian serous cystadenocarcinoma</td>\n",
       "      <td>...</td>\n",
       "      <td>TCGA</td>\n",
       "      <td>TCGA-01-0628</td>\n",
       "      <td>.</td>\n",
       "      <td>NaN</td>\n",
       "      <td>female reproductive system</td>\n",
       "      <td>ovary</td>\n",
       "      <td>NaN</td>\n",
       "      <td>NaN</td>\n",
       "      <td>Normal</td>\n",
       "      <td>OV</td>\n",
       "    </tr>\n",
       "    <tr>\n",
       "      <th>1</th>\n",
       "      <td>TCGA-01-0630-11A</td>\n",
       "      <td>.</td>\n",
       "      <td>NaN</td>\n",
       "      <td>NaN</td>\n",
       "      <td>16727da1-acde-4e5d-898e-18497b35507e</td>\n",
       "      <td>NaN</td>\n",
       "      <td>NaN</td>\n",
       "      <td>NaN</td>\n",
       "      <td>NaN</td>\n",
       "      <td>Ovarian serous cystadenocarcinoma</td>\n",
       "      <td>...</td>\n",
       "      <td>TCGA</td>\n",
       "      <td>TCGA-01-0630</td>\n",
       "      <td>.</td>\n",
       "      <td>NaN</td>\n",
       "      <td>female reproductive system</td>\n",
       "      <td>ovary</td>\n",
       "      <td>NaN</td>\n",
       "      <td>NaN</td>\n",
       "      <td>Normal</td>\n",
       "      <td>OV</td>\n",
       "    </tr>\n",
       "    <tr>\n",
       "      <th>2</th>\n",
       "      <td>TCGA-01-0631-11A</td>\n",
       "      <td>.</td>\n",
       "      <td>NaN</td>\n",
       "      <td>NaN</td>\n",
       "      <td>6848450a-7e7d-4577-bf2d-c802ccc7d82c</td>\n",
       "      <td>NaN</td>\n",
       "      <td>NaN</td>\n",
       "      <td>NaN</td>\n",
       "      <td>NaN</td>\n",
       "      <td>Ovarian serous cystadenocarcinoma</td>\n",
       "      <td>...</td>\n",
       "      <td>TCGA</td>\n",
       "      <td>TCGA-01-0631</td>\n",
       "      <td>.</td>\n",
       "      <td>NaN</td>\n",
       "      <td>female reproductive system</td>\n",
       "      <td>ovary</td>\n",
       "      <td>NaN</td>\n",
       "      <td>NaN</td>\n",
       "      <td>Normal</td>\n",
       "      <td>OV</td>\n",
       "    </tr>\n",
       "    <tr>\n",
       "      <th>3</th>\n",
       "      <td>TCGA-01-0633-11A</td>\n",
       "      <td>.</td>\n",
       "      <td>NaN</td>\n",
       "      <td>NaN</td>\n",
       "      <td>0845ecac-bcf5-4c1e-a467-e7ba71d52118</td>\n",
       "      <td>NaN</td>\n",
       "      <td>NaN</td>\n",
       "      <td>NaN</td>\n",
       "      <td>NaN</td>\n",
       "      <td>Ovarian serous cystadenocarcinoma</td>\n",
       "      <td>...</td>\n",
       "      <td>TCGA</td>\n",
       "      <td>TCGA-01-0633</td>\n",
       "      <td>.</td>\n",
       "      <td>NaN</td>\n",
       "      <td>female reproductive system</td>\n",
       "      <td>ovary</td>\n",
       "      <td>NaN</td>\n",
       "      <td>NaN</td>\n",
       "      <td>Normal</td>\n",
       "      <td>OV</td>\n",
       "    </tr>\n",
       "    <tr>\n",
       "      <th>4</th>\n",
       "      <td>TCGA-01-0636-11A</td>\n",
       "      <td>.</td>\n",
       "      <td>NaN</td>\n",
       "      <td>NaN</td>\n",
       "      <td>2e354f69-d728-4aba-8f54-7987a8566da8</td>\n",
       "      <td>NaN</td>\n",
       "      <td>NaN</td>\n",
       "      <td>NaN</td>\n",
       "      <td>NaN</td>\n",
       "      <td>Ovarian serous cystadenocarcinoma</td>\n",
       "      <td>...</td>\n",
       "      <td>TCGA</td>\n",
       "      <td>TCGA-01-0636</td>\n",
       "      <td>.</td>\n",
       "      <td>NaN</td>\n",
       "      <td>female reproductive system</td>\n",
       "      <td>ovary</td>\n",
       "      <td>NaN</td>\n",
       "      <td>NaN</td>\n",
       "      <td>Normal</td>\n",
       "      <td>OV</td>\n",
       "    </tr>\n",
       "  </tbody>\n",
       "</table>\n",
       "<p>5 rows × 43 columns</p>\n",
       "</div>"
      ],
      "text/plain": [
       "                 ID Age At Initial Pathologic Diagnosis BamFileName  \\\n",
       "0  TCGA-01-0628-11A                                   .         NaN   \n",
       "1  TCGA-01-0630-11A                                   .         NaN   \n",
       "2  TCGA-01-0631-11A                                   .         NaN   \n",
       "3  TCGA-01-0633-11A                                   .         NaN   \n",
       "4  TCGA-01-0636-11A                                   .         NaN   \n",
       "\n",
       "  Bcr Patient Uuid                       Bcr Sample Uuid Clinical M  \\\n",
       "0              NaN  2a91428d-7099-4635-b059-9e5bad09b68a        NaN   \n",
       "1              NaN  16727da1-acde-4e5d-898e-18497b35507e        NaN   \n",
       "2              NaN  6848450a-7e7d-4577-bf2d-c802ccc7d82c        NaN   \n",
       "3              NaN  0845ecac-bcf5-4c1e-a467-e7ba71d52118        NaN   \n",
       "4              NaN  2e354f69-d728-4aba-8f54-7987a8566da8        NaN   \n",
       "\n",
       "  Clinical N Clinical Stage Clinical T                            Disease  \\\n",
       "0        NaN            NaN        NaN  Ovarian serous cystadenocarcinoma   \n",
       "1        NaN            NaN        NaN  Ovarian serous cystadenocarcinoma   \n",
       "2        NaN            NaN        NaN  Ovarian serous cystadenocarcinoma   \n",
       "3        NaN            NaN        NaN  Ovarian serous cystadenocarcinoma   \n",
       "4        NaN            NaN        NaN  Ovarian serous cystadenocarcinoma   \n",
       "\n",
       "     ...     Study Source     SubjectID Survival Days Survival Status  \\\n",
       "0    ...             TCGA  TCGA-01-0628             .             NaN   \n",
       "1    ...             TCGA  TCGA-01-0630             .             NaN   \n",
       "2    ...             TCGA  TCGA-01-0631             .             NaN   \n",
       "3    ...             TCGA  TCGA-01-0633             .             NaN   \n",
       "4    ...             TCGA  TCGA-01-0636             .             NaN   \n",
       "\n",
       "               TissueCategory Tissue Tumor Necrosis Percent  \\\n",
       "0  female reproductive system  ovary                    NaN   \n",
       "1  female reproductive system  ovary                    NaN   \n",
       "2  female reproductive system  ovary                    NaN   \n",
       "3  female reproductive system  ovary                    NaN   \n",
       "4  female reproductive system  ovary                    NaN   \n",
       "\n",
       "  Tumor Nuclei Percent Tumor Or Normal Tumor Type  \n",
       "0                  NaN          Normal         OV  \n",
       "1                  NaN          Normal         OV  \n",
       "2                  NaN          Normal         OV  \n",
       "3                  NaN          Normal         OV  \n",
       "4                  NaN          Normal         OV  \n",
       "\n",
       "[5 rows x 43 columns]"
      ]
     },
     "execution_count": 25,
     "metadata": {},
     "output_type": "execute_result"
    }
   ],
   "source": [
    "a1=Oapi.DownloadMetaData()\n",
    "a1.Land='TCGA_B37'\n",
    "a1.OutputFolder=OutputFolderAbsPath\n",
    "a1.ServerAddress=ServerAddress\n",
    "a1.ServerUserId=ServerUserId\n",
    "a1.ServerUserPsw=ServerUserPsw\n",
    "a1.Run();\n",
    "df1=pd.read_csv(os.path.join(a1.OutputFolder,'DownloadMetaData.txt'),sep='\\t',header=0)\n",
    "df1.head()"
   ]
  },
  {
   "cell_type": "markdown",
   "metadata": {},
   "source": [
    "#### 10. List data in TCGA_B37 and export results to a text file. Load the text file with Pandas"
   ]
  },
  {
   "cell_type": "code",
   "execution_count": 26,
   "metadata": {},
   "outputs": [
    {
     "name": "stdout",
     "output_type": "stream",
     "text": [
      "Load configuration...\n",
      "Load Oscript template\n",
      "Make oscript\n",
      "Lauching Oshell and Running Oscript\n",
      "Oshell run completed, no error message.\n"
     ]
    },
    {
     "data": {
      "text/html": [
       "<div>\n",
       "<style>\n",
       "    .dataframe thead tr:only-child th {\n",
       "        text-align: right;\n",
       "    }\n",
       "\n",
       "    .dataframe thead th {\n",
       "        text-align: left;\n",
       "    }\n",
       "\n",
       "    .dataframe tbody tr th {\n",
       "        vertical-align: top;\n",
       "    }\n",
       "</style>\n",
       "<table border=\"1\" class=\"dataframe\">\n",
       "  <thead>\n",
       "    <tr style=\"text-align: right;\">\n",
       "      <th></th>\n",
       "      <th>ID</th>\n",
       "      <th>CNV</th>\n",
       "      <th>CNVCall</th>\n",
       "      <th>DNA-Seq Somatic Mutation</th>\n",
       "      <th>Expression Ratio</th>\n",
       "      <th>MS</th>\n",
       "      <th>Methylation450 B37</th>\n",
       "      <th>MiRNA-Seq Normalized Count</th>\n",
       "      <th>RPPA</th>\n",
       "      <th>RPPA RBN</th>\n",
       "      <th>RNA-Seq Exon</th>\n",
       "      <th>RNA-Seq Exon Junction</th>\n",
       "      <th>RNA-Seq Fusion</th>\n",
       "      <th>RNA-Seq Gene Details</th>\n",
       "      <th>RNA-Seq Paired End Fusion</th>\n",
       "      <th>RNA-Seq Somatic Mutation</th>\n",
       "      <th>RNA-Seq Gene Quantification</th>\n",
       "    </tr>\n",
       "  </thead>\n",
       "  <tbody>\n",
       "    <tr>\n",
       "      <th>0</th>\n",
       "      <td>ACC All</td>\n",
       "      <td>180</td>\n",
       "      <td>90</td>\n",
       "      <td>91</td>\n",
       "      <td>0</td>\n",
       "      <td>0</td>\n",
       "      <td>80</td>\n",
       "      <td>80</td>\n",
       "      <td>46</td>\n",
       "      <td>46</td>\n",
       "      <td>79</td>\n",
       "      <td>79</td>\n",
       "      <td>79</td>\n",
       "      <td>79</td>\n",
       "      <td>79</td>\n",
       "      <td>0</td>\n",
       "      <td>79</td>\n",
       "    </tr>\n",
       "    <tr>\n",
       "      <th>1</th>\n",
       "      <td>ACC Control</td>\n",
       "      <td>90</td>\n",
       "      <td>0</td>\n",
       "      <td>0</td>\n",
       "      <td>0</td>\n",
       "      <td>0</td>\n",
       "      <td>0</td>\n",
       "      <td>0</td>\n",
       "      <td>0</td>\n",
       "      <td>0</td>\n",
       "      <td>0</td>\n",
       "      <td>0</td>\n",
       "      <td>0</td>\n",
       "      <td>0</td>\n",
       "      <td>0</td>\n",
       "      <td>0</td>\n",
       "      <td>0</td>\n",
       "    </tr>\n",
       "    <tr>\n",
       "      <th>2</th>\n",
       "      <td>BLCA All</td>\n",
       "      <td>808</td>\n",
       "      <td>408</td>\n",
       "      <td>396</td>\n",
       "      <td>0</td>\n",
       "      <td>0</td>\n",
       "      <td>437</td>\n",
       "      <td>432</td>\n",
       "      <td>344</td>\n",
       "      <td>127</td>\n",
       "      <td>430</td>\n",
       "      <td>430</td>\n",
       "      <td>430</td>\n",
       "      <td>430</td>\n",
       "      <td>430</td>\n",
       "      <td>20</td>\n",
       "      <td>430</td>\n",
       "    </tr>\n",
       "    <tr>\n",
       "      <th>3</th>\n",
       "      <td>BLCA Control</td>\n",
       "      <td>395</td>\n",
       "      <td>0</td>\n",
       "      <td>0</td>\n",
       "      <td>0</td>\n",
       "      <td>0</td>\n",
       "      <td>21</td>\n",
       "      <td>19</td>\n",
       "      <td>0</td>\n",
       "      <td>0</td>\n",
       "      <td>19</td>\n",
       "      <td>19</td>\n",
       "      <td>19</td>\n",
       "      <td>19</td>\n",
       "      <td>19</td>\n",
       "      <td>0</td>\n",
       "      <td>19</td>\n",
       "    </tr>\n",
       "    <tr>\n",
       "      <th>4</th>\n",
       "      <td>BRCA All</td>\n",
       "      <td>2217</td>\n",
       "      <td>1080</td>\n",
       "      <td>1002</td>\n",
       "      <td>593</td>\n",
       "      <td>102</td>\n",
       "      <td>893</td>\n",
       "      <td>1202</td>\n",
       "      <td>937</td>\n",
       "      <td>820</td>\n",
       "      <td>1227</td>\n",
       "      <td>1227</td>\n",
       "      <td>1227</td>\n",
       "      <td>1227</td>\n",
       "      <td>1227</td>\n",
       "      <td>120</td>\n",
       "      <td>1227</td>\n",
       "    </tr>\n",
       "  </tbody>\n",
       "</table>\n",
       "</div>"
      ],
      "text/plain": [
       "             ID   CNV  CNVCall  DNA-Seq Somatic Mutation  Expression Ratio  \\\n",
       "0       ACC All   180       90                        91                 0   \n",
       "1   ACC Control    90        0                         0                 0   \n",
       "2      BLCA All   808      408                       396                 0   \n",
       "3  BLCA Control   395        0                         0                 0   \n",
       "4      BRCA All  2217     1080                      1002               593   \n",
       "\n",
       "    MS  Methylation450 B37  MiRNA-Seq Normalized Count  RPPA  RPPA RBN  \\\n",
       "0    0                  80                          80    46        46   \n",
       "1    0                   0                           0     0         0   \n",
       "2    0                 437                         432   344       127   \n",
       "3    0                  21                          19     0         0   \n",
       "4  102                 893                        1202   937       820   \n",
       "\n",
       "   RNA-Seq Exon  RNA-Seq Exon Junction  RNA-Seq Fusion  RNA-Seq Gene Details  \\\n",
       "0            79                     79              79                    79   \n",
       "1             0                      0               0                     0   \n",
       "2           430                    430             430                   430   \n",
       "3            19                     19              19                    19   \n",
       "4          1227                   1227            1227                  1227   \n",
       "\n",
       "   RNA-Seq Paired End Fusion  RNA-Seq Somatic Mutation  \\\n",
       "0                         79                         0   \n",
       "1                          0                         0   \n",
       "2                        430                        20   \n",
       "3                         19                         0   \n",
       "4                       1227                       120   \n",
       "\n",
       "   RNA-Seq Gene Quantification  \n",
       "0                           79  \n",
       "1                            0  \n",
       "2                          430  \n",
       "3                           19  \n",
       "4                         1227  "
      ]
     },
     "execution_count": 26,
     "metadata": {},
     "output_type": "execute_result"
    }
   ],
   "source": [
    "a1=Oapi.ListDataAvailability()\n",
    "a1.Land='TCGA_B37'\n",
    "a1.OutputFolder=OutputFolderAbsPath\n",
    "a1.ServerAddress=ServerAddress\n",
    "a1.ServerUserId=ServerUserId\n",
    "a1.ServerUserPsw=ServerUserPsw\n",
    "a1.Run();\n",
    "df1=pd.read_csv(os.path.join(a1.OutputFolder,'ListDataAvailability.txt'),sep='\\t',header=0)\n",
    "df1.head()"
   ]
  },
  {
   "cell_type": "markdown",
   "metadata": {},
   "source": [
    "#### 11. Download gene comparison from HumanDisease_B37 given comparisonset. Load the resulted text files using Pandas."
   ]
  },
  {
   "cell_type": "code",
   "execution_count": 27,
   "metadata": {},
   "outputs": [
    {
     "name": "stdout",
     "output_type": "stream",
     "text": [
      "Load configuration...\n",
      "Load Oscript template\n",
      "Make oscript\n",
      "Lauching Oshell and Running Oscript\n",
      "Oshell run completed, no error message.\n"
     ]
    },
    {
     "data": {
      "text/html": [
       "<div>\n",
       "<style>\n",
       "    .dataframe thead tr:only-child th {\n",
       "        text-align: right;\n",
       "    }\n",
       "\n",
       "    .dataframe thead th {\n",
       "        text-align: left;\n",
       "    }\n",
       "\n",
       "    .dataframe tbody tr th {\n",
       "        vertical-align: top;\n",
       "    }\n",
       "</style>\n",
       "<table border=\"1\" class=\"dataframe\">\n",
       "  <thead>\n",
       "    <tr style=\"text-align: right;\">\n",
       "      <th></th>\n",
       "      <th>ID</th>\n",
       "      <th>GSE13887.GPL570.test1</th>\n",
       "      <th>GSE13849.GPL570.test1</th>\n",
       "      <th>GSE13849.GPL570.test2</th>\n",
       "    </tr>\n",
       "  </thead>\n",
       "  <tbody>\n",
       "    <tr>\n",
       "      <th>0</th>\n",
       "      <td>DDX11L1</td>\n",
       "      <td>1.0935</td>\n",
       "      <td>0.1685</td>\n",
       "      <td>0.2511</td>\n",
       "    </tr>\n",
       "    <tr>\n",
       "      <th>1</th>\n",
       "      <td>WASH7P</td>\n",
       "      <td>0.2277</td>\n",
       "      <td>-0.2983</td>\n",
       "      <td>-0.2595</td>\n",
       "    </tr>\n",
       "    <tr>\n",
       "      <th>2</th>\n",
       "      <td>MI0022705</td>\n",
       "      <td>.</td>\n",
       "      <td>.</td>\n",
       "      <td>.</td>\n",
       "    </tr>\n",
       "    <tr>\n",
       "      <th>3</th>\n",
       "      <td>MI0006363</td>\n",
       "      <td>.</td>\n",
       "      <td>.</td>\n",
       "      <td>.</td>\n",
       "    </tr>\n",
       "    <tr>\n",
       "      <th>4</th>\n",
       "      <td>FAM138F</td>\n",
       "      <td>0.3401</td>\n",
       "      <td>0.0599</td>\n",
       "      <td>0.0650</td>\n",
       "    </tr>\n",
       "  </tbody>\n",
       "</table>\n",
       "</div>"
      ],
      "text/plain": [
       "          ID GSE13887.GPL570.test1 GSE13849.GPL570.test1 GSE13849.GPL570.test2\n",
       "0    DDX11L1                1.0935                0.1685                0.2511\n",
       "1     WASH7P                0.2277               -0.2983               -0.2595\n",
       "2  MI0022705                     .                     .                     .\n",
       "3  MI0006363                     .                     .                     .\n",
       "4    FAM138F                0.3401                0.0599                0.0650"
      ]
     },
     "execution_count": 27,
     "metadata": {},
     "output_type": "execute_result"
    }
   ],
   "source": [
    "a1=Oapi.DownloadArrayLandComparisonData()\n",
    "a1.Land='HumanDisease_B37'\n",
    "a1.ComparisonSet=r'GSE13887.GPL570.test1,GSE13849.GPL570.test1,GSE13849.GPL570.test2'\n",
    "a1.OutputFolder=OutputFolderAbsPath\n",
    "a1.ServerAddress=ServerAddress\n",
    "a1.ServerUserId=ServerUserId\n",
    "a1.ServerUserPsw=ServerUserPsw\n",
    "a1.Run();\n",
    "df1_CpGenes=pd.read_csv(os.path.join(a1.OutputFolder,a1.Output+'.Comparison.Genes.txt'),sep='\\t',header=0)\n",
    "df1_CpGenes_Design=pd.read_csv(os.path.join(a1.OutputFolder,a1.Output+'.Comparison.Genes.txt'),sep='\\t',header=0)\n",
    "df1_Cp=pd.read_csv(os.path.join(a1.OutputFolder,a1.Output+'.Comparison.txt'),sep='\\t',header=0)\n",
    "df1_Meta=pd.read_csv(os.path.join(a1.OutputFolder,a1.Output+'.FullMetaData.txt'),sep='\\t',header=0,low_memory=False)\n",
    "df1_CpGenes.head()"
   ]
  },
  {
   "cell_type": "markdown",
   "metadata": {},
   "source": [
    "#### 12. Download gene comparison from HumanDisease_B37 given comparisonset and GeneSet. Load the resulted text files using Pandas."
   ]
  },
  {
   "cell_type": "code",
   "execution_count": 28,
   "metadata": {},
   "outputs": [
    {
     "name": "stdout",
     "output_type": "stream",
     "text": [
      "Load configuration...\n",
      "Load Oscript template\n",
      "Make oscript\n",
      "Lauching Oshell and Running Oscript\n",
      "Oshell run completed, no error message.\n"
     ]
    },
    {
     "data": {
      "text/html": [
       "<div>\n",
       "<style>\n",
       "    .dataframe thead tr:only-child th {\n",
       "        text-align: right;\n",
       "    }\n",
       "\n",
       "    .dataframe thead th {\n",
       "        text-align: left;\n",
       "    }\n",
       "\n",
       "    .dataframe tbody tr th {\n",
       "        vertical-align: top;\n",
       "    }\n",
       "</style>\n",
       "<table border=\"1\" class=\"dataframe\">\n",
       "  <thead>\n",
       "    <tr style=\"text-align: right;\">\n",
       "      <th></th>\n",
       "      <th>ID</th>\n",
       "      <th>ComparisonID</th>\n",
       "      <th>GeneID</th>\n",
       "      <th>GeneName</th>\n",
       "      <th>EntrezID</th>\n",
       "      <th>Probe</th>\n",
       "      <th>Log2FoldChange</th>\n",
       "      <th>RawPValue</th>\n",
       "      <th>AdjustedPValue</th>\n",
       "      <th>NumeratorValue</th>\n",
       "      <th>DenominatorValue</th>\n",
       "    </tr>\n",
       "  </thead>\n",
       "  <tbody>\n",
       "    <tr>\n",
       "      <th>0</th>\n",
       "      <td>1</td>\n",
       "      <td>GSE13887.GPL570.test1</td>\n",
       "      <td>MET</td>\n",
       "      <td>MET</td>\n",
       "      <td>4233</td>\n",
       "      <td>213816_s_at</td>\n",
       "      <td>0.248175</td>\n",
       "      <td>0.341515</td>\n",
       "      <td>0.704033</td>\n",
       "      <td>6.180288</td>\n",
       "      <td>5.932113</td>\n",
       "    </tr>\n",
       "    <tr>\n",
       "      <th>1</th>\n",
       "      <td>2</td>\n",
       "      <td>GSE13887.GPL570.test1</td>\n",
       "      <td>MET</td>\n",
       "      <td>MET</td>\n",
       "      <td>4233</td>\n",
       "      <td>211599_x_at</td>\n",
       "      <td>0.075648</td>\n",
       "      <td>0.586570</td>\n",
       "      <td>0.839611</td>\n",
       "      <td>8.631186</td>\n",
       "      <td>8.555538</td>\n",
       "    </tr>\n",
       "    <tr>\n",
       "      <th>2</th>\n",
       "      <td>3</td>\n",
       "      <td>GSE13887.GPL570.test1</td>\n",
       "      <td>MET</td>\n",
       "      <td>MET</td>\n",
       "      <td>4233</td>\n",
       "      <td>203510_at</td>\n",
       "      <td>-0.290123</td>\n",
       "      <td>0.703461</td>\n",
       "      <td>0.892646</td>\n",
       "      <td>7.263002</td>\n",
       "      <td>7.553125</td>\n",
       "    </tr>\n",
       "    <tr>\n",
       "      <th>3</th>\n",
       "      <td>4</td>\n",
       "      <td>GSE13887.GPL570.test1</td>\n",
       "      <td>MET</td>\n",
       "      <td>MET</td>\n",
       "      <td>4233</td>\n",
       "      <td>213807_x_at</td>\n",
       "      <td>0.027645</td>\n",
       "      <td>0.904087</td>\n",
       "      <td>0.967445</td>\n",
       "      <td>7.073084</td>\n",
       "      <td>7.045440</td>\n",
       "    </tr>\n",
       "    <tr>\n",
       "      <th>4</th>\n",
       "      <td>5</td>\n",
       "      <td>GSE13849.GPL570.test1</td>\n",
       "      <td>MET</td>\n",
       "      <td>MET</td>\n",
       "      <td>4233</td>\n",
       "      <td>203510_at</td>\n",
       "      <td>-0.189345</td>\n",
       "      <td>0.085426</td>\n",
       "      <td>0.288790</td>\n",
       "      <td>5.629444</td>\n",
       "      <td>5.818789</td>\n",
       "    </tr>\n",
       "  </tbody>\n",
       "</table>\n",
       "</div>"
      ],
      "text/plain": [
       "   ID           ComparisonID GeneID GeneName  EntrezID        Probe  \\\n",
       "0   1  GSE13887.GPL570.test1    MET      MET      4233  213816_s_at   \n",
       "1   2  GSE13887.GPL570.test1    MET      MET      4233  211599_x_at   \n",
       "2   3  GSE13887.GPL570.test1    MET      MET      4233    203510_at   \n",
       "3   4  GSE13887.GPL570.test1    MET      MET      4233  213807_x_at   \n",
       "4   5  GSE13849.GPL570.test1    MET      MET      4233    203510_at   \n",
       "\n",
       "   Log2FoldChange  RawPValue  AdjustedPValue  NumeratorValue  DenominatorValue  \n",
       "0        0.248175   0.341515        0.704033        6.180288          5.932113  \n",
       "1        0.075648   0.586570        0.839611        8.631186          8.555538  \n",
       "2       -0.290123   0.703461        0.892646        7.263002          7.553125  \n",
       "3        0.027645   0.904087        0.967445        7.073084          7.045440  \n",
       "4       -0.189345   0.085426        0.288790        5.629444          5.818789  "
      ]
     },
     "execution_count": 28,
     "metadata": {},
     "output_type": "execute_result"
    }
   ],
   "source": [
    "a1=Oapi.TextDumpArrayLandGeneComparison()\n",
    "a1.Land='HumanDisease_B37'\n",
    "a1.GeneSet='MET,egfr,braf,Kras'\n",
    "a1.ComparisonSet=r'GSE13887.GPL570.test1,GSE13849.GPL570.test1,GSE13849.GPL570.test2'\n",
    "a1.OutputFolder=OutputFolderAbsPath\n",
    "a1.ServerAddress=ServerAddress\n",
    "a1.ServerUserId=ServerUserId\n",
    "a1.ServerUserPsw=ServerUserPsw\n",
    "a1.Run();\n",
    "df1_Cp=pd.read_csv(os.path.join(a1.OutputFolder,a1.Output+'.Comparison.txt'),sep='\\t',header=0)\n",
    "df1_CpMx=pd.read_csv(os.path.join(a1.OutputFolder,'Comparison.matrix.txt'),sep='\\t',header=0)\n",
    "df1_Meta=pd.read_csv(os.path.join(a1.OutputFolder,a1.Output+'.FullMetaData.txt'),sep='\\t',header=0,low_memory=False)\n",
    "\n",
    "df1_Cp.head()"
   ]
  },
  {
   "cell_type": "markdown",
   "metadata": {},
   "source": [
    "#### 13. Download comparisonset from HumanDesease_B37 and save results in a text file. Load the text file with Pandas"
   ]
  },
  {
   "cell_type": "code",
   "execution_count": 29,
   "metadata": {},
   "outputs": [
    {
     "name": "stdout",
     "output_type": "stream",
     "text": [
      "Load configuration...\n",
      "Load Oscript template\n",
      "Make oscript\n",
      "Lauching Oshell and Running Oscript\n",
      "Oshell run completed, no error message.\n"
     ]
    },
    {
     "data": {
      "text/plain": [
       "0    GSE13849.GPL570.test1\n",
       "1    GSE13849.GPL570.test2\n",
       "Name: ComparisonID, dtype: object"
      ]
     },
     "execution_count": 29,
     "metadata": {},
     "output_type": "execute_result"
    }
   ],
   "source": [
    "#Run DownloadComparisonSet api, which which produce text files based on query results in HumanDisease_B37'.\n",
    "a1=Oapi.DownloadComparisonSet()\n",
    "a1.Land='HumanDisease_B37'\n",
    "a1.ComparisonSet=r'WilsonComparisonSetTest'\n",
    "a1.OutputFolder=OutputFolderAbsPath\n",
    "a1.ServerAddress=ServerAddress\n",
    "a1.ServerUserId=ServerUserId\n",
    "a1.ServerUserPsw=ServerUserPsw\n",
    "a1.Run();\n",
    "df1_CpSet=pd.read_csv(os.path.join(a1.OutputFolder,'DownloadComparisonSet.txt'),sep='\\t',header=0)\n",
    "df1_CpSet.head().iloc[:,0]"
   ]
  },
  {
   "cell_type": "markdown",
   "metadata": {},
   "source": [
    "#### 14. Fetch sampleset stored in ArrayServer, and export results to a text file. Load the text file with Pandas"
   ]
  },
  {
   "cell_type": "code",
   "execution_count": 30,
   "metadata": {
    "scrolled": true
   },
   "outputs": [
    {
     "name": "stdout",
     "output_type": "stream",
     "text": [
      "Load configuration...\n",
      "Load Oscript template\n",
      "Make oscript\n",
      "Lauching Oshell and Running Oscript\n",
      "Oshell run completed, no error message.\n"
     ]
    },
    {
     "data": {
      "text/html": [
       "<div>\n",
       "<style>\n",
       "    .dataframe thead tr:only-child th {\n",
       "        text-align: right;\n",
       "    }\n",
       "\n",
       "    .dataframe thead th {\n",
       "        text-align: left;\n",
       "    }\n",
       "\n",
       "    .dataframe tbody tr th {\n",
       "        vertical-align: top;\n",
       "    }\n",
       "</style>\n",
       "<table border=\"1\" class=\"dataframe\">\n",
       "  <thead>\n",
       "    <tr style=\"text-align: right;\">\n",
       "      <th></th>\n",
       "      <th>SampleSetID</th>\n",
       "      <th>ContactEmail</th>\n",
       "      <th>ContactName</th>\n",
       "      <th>Description</th>\n",
       "      <th>Keywords</th>\n",
       "      <th>LoadedBy</th>\n",
       "      <th>LoadedDate</th>\n",
       "      <th>Organism</th>\n",
       "      <th>PlatformType</th>\n",
       "      <th>Title</th>\n",
       "    </tr>\n",
       "  </thead>\n",
       "  <tbody>\n",
       "    <tr>\n",
       "      <th>0</th>\n",
       "      <td>OmicsoftTest_SampleSet_20171128</td>\n",
       "      <td>support@omicsoft.com</td>\n",
       "      <td>Omicsoft</td>\n",
       "      <td>test</td>\n",
       "      <td>Test</td>\n",
       "      <td>Omicsoft</td>\n",
       "      <td>11/28/2017</td>\n",
       "      <td>Rat</td>\n",
       "      <td>Expression Array</td>\n",
       "      <td>OmicsoftTest SampleSet 20171128</td>\n",
       "    </tr>\n",
       "  </tbody>\n",
       "</table>\n",
       "</div>"
      ],
      "text/plain": [
       "                       SampleSetID          ContactEmail ContactName  \\\n",
       "0  OmicsoftTest_SampleSet_20171128  support@omicsoft.com    Omicsoft   \n",
       "\n",
       "  Description Keywords  LoadedBy  LoadedDate Organism      PlatformType  \\\n",
       "0        test     Test  Omicsoft  11/28/2017      Rat  Expression Array   \n",
       "\n",
       "                             Title  \n",
       "0  OmicsoftTest SampleSet 20171128  "
      ]
     },
     "execution_count": 30,
     "metadata": {},
     "output_type": "execute_result"
    }
   ],
   "source": [
    "a1=Oapi.FetchSampleSetMetaData()\n",
    "a1.ServerAddress=ServerAddress\n",
    "a1.ServerUserId=ServerUserId\n",
    "a1.ServerUserPsw=ServerUserPsw\n",
    "a1.SampleSetId=SampleSet\n",
    "a1.OutputFile=OutputFile\n",
    "a1.Run()\n",
    "df1=pd.read_csv(a1.OutputFile,sep='\\t',header=1)\n",
    "df1.head()"
   ]
  },
  {
   "cell_type": "markdown",
   "metadata": {},
   "source": [
    "#### 15. Run a custom oscript"
   ]
  },
  {
   "cell_type": "code",
   "execution_count": 31,
   "metadata": {},
   "outputs": [
    {
     "name": "stdout",
     "output_type": "stream",
     "text": [
      "Load configuration...\n",
      "Lauching Oshell and Running Oscript\n",
      "Oshell run completed, no error message.\n"
     ]
    },
    {
     "data": {
      "text/plain": [
       "'OShell version=10.0.1.50\\r\\nProgram started at Wednesday, March 21, 2018 1:16:25 PM\\r\\nPerform initialization...\\r\\n\\r\\n[00:00:00] Windows OS detected...Initialization done...\\r\\nTempFolder=D:\\\\local\\\\data\\\\OmicsoftFiles\\\\Temp\\\\2018.3.21.c773c2d568a98215\\r\\nScript used: \\r\\nBegin ExecuteCommand /Namespace=Server;\\nServer \"tcp://192.168.3.226:9065\" /UserID=chenx57 /Password=omicsoft;\\nCommand IA_FetchSampleIDs;\\nOptions\\n\"\\nSampleSetID=OmicsoftTest_SampleSet_20171128\\n\";\\nOutputFile \"Z:\\\\Users\\\\wilson\\\\support\\\\oscript\\\\output\\\\test_20180321.txt\";\\nEnd;\\r\\n\\r\\nExecuting scripts...\\r\\n\\r\\n[00:00:00] ----------Started ProcExecuteCommand----------\\r\\n\\r\\n[00:00:00] Fetching user profile...\\r\\n[00:00:00] Uploading input data....\\r\\n[00:00:00] Executing command on the server...\\r\\n[00:00:01] Downloading output data...\\r\\n[00:00:01] ----------Finished ProcExecuteCommand----------\\r\\nProgram finished at Wednesday, March 21, 2018 1:16:26 PM\\r\\nTemp folder: D:\\\\local\\\\data\\\\OmicsoftFiles\\\\Temp\\\\2018.3.21.c773c2d568a98215 deleted at machine: DESKTOP-P81RJ85\\r\\n'"
      ]
     },
     "execution_count": 31,
     "metadata": {},
     "output_type": "execute_result"
    }
   ],
   "source": [
    "a1=Oapi.OmicPythonApi()\n",
    "a1.Oscript=r\"\"\"Begin ExecuteCommand /Namespace=Server;\n",
    "Server \"tcp://192.168.3.226:9065\" /UserID=chenx57 /Password=omicsoft;\n",
    "Command IA_FetchSampleIDs;\n",
    "Options\n",
    "\"\n",
    "SampleSetID=OmicsoftTest_SampleSet_20171128\n",
    "\";\n",
    "OutputFile \"Z:\\Users\\wilson\\support\\oscript\\output\\test_20180321.txt\";\n",
    "End;\"\"\"\n",
    "a1.Run()"
   ]
  },
  {
   "cell_type": "markdown",
   "metadata": {},
   "source": [
    "#### 16. Show log of the oscript job by print obj.Log"
   ]
  },
  {
   "cell_type": "code",
   "execution_count": 32,
   "metadata": {},
   "outputs": [
    {
     "name": "stdout",
     "output_type": "stream",
     "text": [
      "OShell version=10.0.1.50\r\n",
      "Program started at Wednesday, March 21, 2018 1:16:25 PM\r\n",
      "Perform initialization...\r\n",
      "\r\n",
      "[00:00:00] Windows OS detected...Initialization done...\r\n",
      "TempFolder=D:\\local\\data\\OmicsoftFiles\\Temp\\2018.3.21.c773c2d568a98215\r\n",
      "Script used: \r\n",
      "Begin ExecuteCommand /Namespace=Server;\n",
      "Server \"tcp://192.168.3.226:9065\" /UserID=chenx57 /Password=omicsoft;\n",
      "Command IA_FetchSampleIDs;\n",
      "Options\n",
      "\"\n",
      "SampleSetID=OmicsoftTest_SampleSet_20171128\n",
      "\";\n",
      "OutputFile \"Z:\\Users\\wilson\\support\\oscript\\output\\test_20180321.txt\";\n",
      "End;\r\n",
      "\r\n",
      "Executing scripts...\r\n",
      "\r\n",
      "[00:00:00] ----------Started ProcExecuteCommand----------\r\n",
      "\r\n",
      "[00:00:00] Fetching user profile...\r\n",
      "[00:00:00] Uploading input data....\r\n",
      "[00:00:00] Executing command on the server...\r\n",
      "[00:00:01] Downloading output data...\r\n",
      "[00:00:01] ----------Finished ProcExecuteCommand----------\r\n",
      "Program finished at Wednesday, March 21, 2018 1:16:26 PM\r\n",
      "Temp folder: D:\\local\\data\\OmicsoftFiles\\Temp\\2018.3.21.c773c2d568a98215 deleted at machine: DESKTOP-P81RJ85\r\n",
      "\n"
     ]
    }
   ],
   "source": [
    "print(a1.Log)"
   ]
  },
  {
   "cell_type": "code",
   "execution_count": null,
   "metadata": {
    "collapsed": true
   },
   "outputs": [],
   "source": []
  }
 ],
 "metadata": {
  "kernelspec": {
   "display_name": "Python 3",
   "language": "python",
   "name": "python3"
  },
  "language_info": {
   "codemirror_mode": {
    "name": "ipython",
    "version": 3
   },
   "file_extension": ".py",
   "mimetype": "text/x-python",
   "name": "python",
   "nbconvert_exporter": "python",
   "pygments_lexer": "ipython3",
   "version": "3.6.1"
  }
 },
 "nbformat": 4,
 "nbformat_minor": 2
}
